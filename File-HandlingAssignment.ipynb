{
  "cells": [
    {
      "cell_type": "markdown",
      "metadata": {
        "id": "hMvHoD8haXVR"
      },
      "source": [
        "Files, exceptional handling,\n",
        "logging and memory\n",
        "management-theory questions:-"
      ]
    },
    {
      "cell_type": "markdown",
      "metadata": {
        "id": "WP6AYL6AStBP"
      },
      "source": [
        "1. What is the difference between interpreted and compiled languages?\n",
        "\n",
        "  - Interpreted Languages: Code is executed line by line by an interpreter (e.g., Python, JavaScript). Execution is slower but debugging is easier.\n",
        "\n",
        "  - Compiled Languages: Code is translated into machine code by a compiler before execution (e.g., C, C++). Execution is faster but debugging can be harder."
      ]
    },
    {
      "cell_type": "markdown",
      "metadata": {
        "id": "KbI_EMhMS16V"
      },
      "source": [
        "2. What is exception handling in Python?\n",
        "\n",
        "  - Exception handling is a mechanism to deal with runtime errors in a controlled way using try, except, else, and finally blocks. It prevents program crashes."
      ]
    },
    {
      "cell_type": "markdown",
      "metadata": {
        "id": "OQ92QAT2S3I8"
      },
      "source": [
        "3. What is the purpose of the finally block in exception handling?\n",
        "\n",
        "  - The finally block always executes, regardless of whether an exception occurred. It is typically used for cleanup operations like closing files or releasing resources."
      ]
    },
    {
      "cell_type": "markdown",
      "metadata": {
        "id": "ne64iXsSS3FU"
      },
      "source": [
        "4. What is logging in Python?\n",
        "\n",
        "  - Logging is the process of recording events, errors, and messages during program execution using the logging module. It helps in debugging and monitoring applications."
      ]
    },
    {
      "cell_type": "markdown",
      "metadata": {
        "id": "1fzZoHRyS3DO"
      },
      "source": [
        "5. What is the significance of the __del__ method in Python?\n",
        "\n",
        "  - The __del__ method is a destructor method, called when an object is about to be destroyed (garbage collected). It is used to clean up resources (e.g., closing database connections)."
      ]
    },
    {
      "cell_type": "markdown",
      "metadata": {
        "id": "G-VQ5q7QS3At"
      },
      "source": [
        "6. What is the difference between import and from ... import in Python?\n",
        "\n",
        "  - import module → Imports the whole module; use with module.function().\n",
        "\n",
        "  - from module import function → Imports specific items directly; use function without prefix."
      ]
    },
    {
      "cell_type": "markdown",
      "metadata": {
        "id": "1EI-4VgZS2-t"
      },
      "source": [
        "7. How can you handle multiple exceptions in Python?\n",
        "\n",
        "  - Use multiple except blocks to handle each exception separately.\n",
        "\n",
        "  - Or combine exceptions in a tuple to handle them in one block:\n",
        "  - This ensures that the program can respond appropriately to different types of errors without crashing.\n",
        "  "
      ]
    },
    {
      "cell_type": "code",
      "execution_count": null,
      "metadata": {
        "colab": {
          "base_uri": "https://localhost:8080/"
        },
        "id": "V2nQ-hT0aqyH",
        "outputId": "33ef1d90-c794-4daf-ce36-192bcca2f7e1"
      },
      "outputs": [
        {
          "output_type": "stream",
          "name": "stdout",
          "text": [
            "Enter a number: 67\n",
            "Enter another number: 87\n",
            "Result: 0.7701149425287356\n",
            "Error: Cannot combine different data types (e.g., string + number)\n",
            "Program finished.\n"
          ]
        }
      ],
      "source": [
        "try:\n",
        "    x = int(input(\"Enter a number: \"))  # Could raise ValueError\n",
        "    y = int(input(\"Enter another number: \"))  # Could raise ValueError\n",
        "    result = x / y  # Could raise ZeroDivisionError\n",
        "    print(\"Result:\", result)\n",
        "\n",
        "    # Example of TypeError\n",
        "    text = \"Hello\"\n",
        "    number = 5\n",
        "    print(text + number)  # This will raise TypeError\n",
        "\n",
        "except ZeroDivisionError:\n",
        "    print(\"Error: Cannot divide by zero!\")\n",
        "\n",
        "except ValueError:\n",
        "    print(\"Error: Please enter a valid number!\")\n",
        "\n",
        "except TypeError:\n",
        "    print(\"Error: Cannot combine different data types (e.g., string + number)\")\n",
        "\n",
        "finally:\n",
        "    print(\"Program finished.\")"
      ]
    },
    {
      "cell_type": "markdown",
      "metadata": {
        "id": "nXJIEqvLS28P"
      },
      "source": [
        "8. What is the purpose of the with statement when handling files in Python?\n",
        "\n",
        "  - Ensures proper acquisition and release of resources (like files) without explicitly calling close().\n",
        "\n",
        "  - Automatically handles exceptions and closes the file even if an error occurs inside the block.\n",
        "\n",
        "  - Reduces boilerplate code and prevents resource leaks."
      ]
    },
    {
      "cell_type": "markdown",
      "metadata": {
        "id": "piBq_uAmS26F"
      },
      "source": [
        "9. What is the difference between multithreading and multiprocessing?\n",
        "\n",
        "  - Multithreading: Multiple threads within one process share memory; suitable for I/O-bound tasks like network or file operations.\n",
        "\n",
        "  - Multiprocessing: Separate processes with independent memory; ideal for CPU-bound tasks like heavy calculations.\n",
        "\n",
        "  - Multithreading is lighter on resources but limited by Python's Global Interpreter Lock (GIL). Multiprocessing bypasses GIL, enabling true parallelism."
      ]
    },
    {
      "cell_type": "markdown",
      "metadata": {
        "id": "T1Ht4GAdS24B"
      },
      "source": [
        "10. What are the advantages of using logging in a program?\n",
        "\n",
        "  - Tracks program execution and records errors, warnings, or informational messages.\n",
        "\n",
        "  - Helps in debugging complex applications by providing context about program flow.\n",
        "\n",
        "  - Supports multiple severity levels and output options (console, file, or remote server).\n",
        "\n",
        "  - Can be used for auditing and monitoring production systems without interrupting program execution."
      ]
    },
    {
      "cell_type": "markdown",
      "metadata": {
        "id": "FPHj0BGtS21p"
      },
      "source": [
        "11. What is memory management in Python?\n",
        "\n",
        "  - Python manages memory automatically via private heap storage and a garbage collector.\n",
        "\n",
        "  - Tracks object references, frees unused memory, and prevents leaks.\n",
        "\n",
        "  - Reduces programmer burden, allowing focus on logic rather than memory allocation."
      ]
    },
    {
      "cell_type": "markdown",
      "metadata": {
        "id": "q7xgRfAbS2zR"
      },
      "source": [
        "12. What are the basic steps involved in exception handling in Python?\n",
        "\n",
        "  - Place risky code inside a try block.\n",
        "\n",
        "  - Catch exceptions using except.\n",
        "\n",
        "  - Use else for code that runs only if no exception occurs.\n",
        "\n",
        "  - Use finally for cleanup tasks.\n",
        "\n",
        "  - This structure ensures controlled execution and resource safety in programs."
      ]
    },
    {
      "cell_type": "markdown",
      "metadata": {
        "id": "eORZFo27S2u2"
      },
      "source": [
        "13. Why is memory management important in Python?\n",
        "\n",
        "  - Prevents memory leaks and optimizes performance.\n",
        "\n",
        "  - Ensures efficient resource allocation for running programs.\n",
        "\n",
        "  - Helps maintain system stability and prevents crashes due to memory exhaustion."
      ]
    },
    {
      "cell_type": "markdown",
      "metadata": {
        "id": "QXClxTbfS2w9"
      },
      "source": [
        "14. What is the role of try and except in exception handling?\n",
        "\n",
        "  - try: Contains code that may generate exceptions.\n",
        "\n",
        "  - except: Handles exceptions, preventing program termination and providing recovery mechanisms.\n",
        "\n",
        "  - Together, they enable robust and fault-tolerant applications."
      ]
    },
    {
      "cell_type": "markdown",
      "metadata": {
        "id": "l__fAg9wU7JR"
      },
      "source": [
        "15. How does Python's garbage collection system work?\n",
        "\n",
        "  - Uses reference counting to track object usage.\n",
        "\n",
        "  - Cleans up circular references via cyclic garbage collector.\n",
        "\n",
        "  - Ensures efficient memory utilization and reduces memory leaks without manual intervention."
      ]
    },
    {
      "cell_type": "markdown",
      "metadata": {
        "id": "oKLPd6PqU7F4"
      },
      "source": [
        "16. What is the purpose of the else block in exception handling?\n",
        "\n",
        "  - Executes only if no exception occurs in the try block.\n",
        "\n",
        "  - Can be used for code that should run after successful completion of try.\n",
        "\n",
        "  - Helps separate normal execution logic from exception handling code."
      ]
    },
    {
      "cell_type": "markdown",
      "metadata": {
        "id": "6-TRva6UU7DZ"
      },
      "source": [
        "17. What are the common logging levels in Python?\n",
        "\n",
        "  - DEBUG, INFO, WARNING, ERROR, CRITICAL.\n",
        "\n",
        "  - Allows filtering messages based on severity.\n",
        "\n",
        "  - Provides better control over the logging output in large applications."
      ]
    },
    {
      "cell_type": "markdown",
      "metadata": {
        "id": "6Fy1tX7oU7BX"
      },
      "source": [
        "18. What is the difference between os.fork() and multiprocessing in Python?\n",
        "\n",
        "  - os.fork(): Unix-only, directly creates a child process at the OS level.\n",
        "\n",
        "  - multiprocessing: Cross-platform, provides easy-to-use API for creating processes and sharing data.\n",
        "\n",
        "  - Multiprocessing is safer and more flexible, especially for modern Python applications."
      ]
    },
    {
      "cell_type": "markdown",
      "metadata": {
        "id": "K0L1JSHZU6_M"
      },
      "source": [
        "19. What is the importance of closing a file in Python?\n",
        "\n",
        "  - Releases system resources and ensures data is properly written to disk.\n",
        "\n",
        "  - Prevents data corruption and potential memory leaks.\n",
        "\n",
        "  - Improves program reliability and resource management."
      ]
    },
    {
      "cell_type": "markdown",
      "metadata": {
        "id": "Qbjs9ZvDU69Z"
      },
      "source": [
        "20. What is the difference between file.read() and file.readline()?\n",
        "\n",
        "  - file.read(): Reads entire file content or specified bytes into memory.\n",
        "\n",
        "  - file.readline(): Reads one line at a time; useful for processing large files efficiently.\n",
        "\n",
        "  - Choosing the correct method affects performance and memory usage."
      ]
    },
    {
      "cell_type": "markdown",
      "metadata": {
        "id": "Qg7E5NReU663"
      },
      "source": [
        "21. What is the logging module in Python used for?\n",
        "\n",
        "  - Provides a framework to record program events with different severity levels.\n",
        "\n",
        "  - Supports logging to multiple outputs like console, files, or network.\n",
        "\n",
        "  - Useful for debugging, monitoring, and maintaining applications over time."
      ]
    },
    {
      "cell_type": "markdown",
      "metadata": {
        "id": "gTGnF1j7U64m"
      },
      "source": [
        "22. What is the os module in Python used for in file handling?\n",
        "\n",
        "  - Provides OS-level operations like creating, deleting, renaming files and directories.\n",
        "\n",
        "  - Handles paths, permissions, and system-level file operations.\n",
        "\n",
        "  - Essential for building robust file-handling applications that interact with the operating system."
      ]
    },
    {
      "cell_type": "markdown",
      "metadata": {
        "id": "XIQkEThiU62U"
      },
      "source": [
        "23. What are the challenges associated with memory management in Python?\n",
        "\n",
        "  - Handling circular references and complex object graphs.\n",
        "\n",
        "  - Large objects may delay memory release, causing temporary memory spikes.\n",
        "\n",
        "  - Garbage collection adds performance overhead.\n",
        "\n",
        "  - Memory fragmentation may occur in long-running programs."
      ]
    },
    {
      "cell_type": "markdown",
      "metadata": {
        "id": "u5gUC_DSU6O6"
      },
      "source": [
        "24. How do you raise an exception manually in Python?\n",
        "\n",
        "  - You can raise an exception manually using the raise keyword.\n",
        "\n",
        "  - Raising exceptions manually is important for enforcing conditions, validating inputs, or signaling errors in your program.\n",
        "\n",
        "  - It helps in maintaining program correctness and makes debugging easier by explicitly highlighting where something went wrong.\n",
        "\n"
      ]
    },
    {
      "cell_type": "code",
      "execution_count": null,
      "metadata": {
        "colab": {
          "base_uri": "https://localhost:8080/"
        },
        "id": "d8eRdhdWWKye",
        "outputId": "7ef09593-56e2-4396-e8ec-e23710258af6"
      },
      "outputs": [
        {
          "output_type": "stream",
          "name": "stdout",
          "text": [
            "The number 10 is a valid positive value.\n",
            "Caught an error: The number cannot be negative.\n"
          ]
        }
      ],
      "source": [
        "def check_positive_number(number):\n",
        "    \"\"\"Checks if a number is positive and raises an error if it's not.\"\"\"\n",
        "    if number < 0:\n",
        "        # The 'raise' keyword is used to trigger an exception.\n",
        "        # We are raising a ValueError with a custom message.\n",
        "        raise ValueError(\"The number cannot be negative.\")\n",
        "    print(f\"The number {number} is a valid positive value.\")\n",
        "\n",
        "# Example of using the function.\n",
        "try:\n",
        "    # This call will be successful.\n",
        "    check_positive_number(10)\n",
        "\n",
        "    # This call will fail and raise the ValueError.\n",
        "    check_positive_number(-5)\n",
        "except ValueError as e:\n",
        "    # The 'except' block catches the raised exception.\n",
        "    print(f\"Caught an error: {e}\")"
      ]
    },
    {
      "cell_type": "markdown",
      "metadata": {
        "id": "eMKsmSxmWEIW"
      },
      "source": [
        "25. Why is it important to use multithreading in certain applications?\n",
        "\n",
        "  - Multithreading allows multiple tasks to run concurrently within a single process.\n",
        "\n",
        "  - It is particularly useful for I/O-bound applications like file operations, network communication, or GUI programs where waiting for input/output can block execution.\n",
        "\n",
        "  - Improves performance and responsiveness without requiring multiple processes.\n",
        "\n",
        "  - Reduces resource usage compared to creating multiple processes, since threads share the same memory space."
      ]
    },
    {
      "cell_type": "markdown",
      "metadata": {
        "id": "V9HXM56xWbGZ"
      },
      "source": [
        "Files, exceptional handling,\n",
        "logging and memory\n",
        "management-practical questions:-"
      ]
    },
    {
      "cell_type": "code",
      "source": [
        "# 1. How can you open a file for writing in Python and write a string to it?\n",
        "# Solution:\n",
        "with open(\"example.txt\", \"w\") as file:  # \"w\" mode opens the file for writing\n",
        "    file.write(\"Hello, this is a sample string.\\n\")  # Write a string to the file\n",
        "\n",
        "print(\"String written to file successfully.\")"
      ],
      "metadata": {
        "colab": {
          "base_uri": "https://localhost:8080/"
        },
        "id": "VqEQ9pV-xVXG",
        "outputId": "d714f7fc-6937-405e-95fc-3ef26130d9de"
      },
      "execution_count": 215,
      "outputs": [
        {
          "output_type": "stream",
          "name": "stdout",
          "text": [
            "String written to file successfully.\n"
          ]
        }
      ]
    },
    {
      "cell_type": "code",
      "execution_count": null,
      "metadata": {
        "colab": {
          "base_uri": "https://localhost:8080/"
        },
        "id": "3Bv6w4c_YkG9",
        "outputId": "844596c7-cefc-4a84-8563-9581f1b76ca0"
      },
      "outputs": [
        {
          "output_type": "stream",
          "name": "stdout",
          "text": [
            "Hello, this is a sample string.\n",
            "This line will be appended.\n",
            "This line will be appended.\n"
          ]
        }
      ],
      "source": [
        "# 2. Write a Python program to read the contents of a file and print each line.\n",
        "# Solution:\n",
        "with open(\"example.txt\", \"r\") as file:\n",
        "    for line in file:\n",
        "        print(line.strip())"
      ]
    },
    {
      "cell_type": "code",
      "execution_count": 216,
      "metadata": {
        "id": "_D2UTUuBYkEx",
        "colab": {
          "base_uri": "https://localhost:8080/"
        },
        "outputId": "0354050c-e9e3-4192-c567-e37b167a27e4"
      },
      "outputs": [
        {
          "output_type": "stream",
          "name": "stdout",
          "text": [
            "File does not exist!\n"
          ]
        }
      ],
      "source": [
        "# 3. How would you handle a case where the file doesn't exist while trying to open it for reading?\n",
        "# Solution:\n",
        "try:\n",
        "    with open(\"nonexistent.txt\", \"r\") as file:\n",
        "        content = file.read()\n",
        "except FileNotFoundError:\n",
        "    print(\"File does not exist!\")"
      ]
    },
    {
      "cell_type": "code",
      "execution_count": 217,
      "metadata": {
        "id": "Jnkz2XoBYkCe",
        "colab": {
          "base_uri": "https://localhost:8080/"
        },
        "outputId": "bfb3351a-19fd-4823-d51b-69874e5b1467"
      },
      "outputs": [
        {
          "output_type": "stream",
          "name": "stdout",
          "text": [
            "The source file 'source.txt' does not exist.\n"
          ]
        }
      ],
      "source": [
        "# 4. Write a Python script that reads the content from one file and writes it to another file.\n",
        "source_file = \"source.txt\"\n",
        "destination_file = \"destination.txt\"\n",
        "\n",
        "try:\n",
        "    # Open the source file in read mode and destination file in write mode\n",
        "    with open(source_file, \"r\") as src, open(destination_file, \"w\") as dest:\n",
        "        for line in src:\n",
        "            dest.write(line)\n",
        "    print(f\"Content from '{source_file}' has been successfully copied to '{destination_file}'.\")\n",
        "\n",
        "except FileNotFoundError:\n",
        "    print(f\"The source file '{source_file}' does not exist.\")\n",
        "except IOError as e:\n",
        "    print(f\"An error occurred while handling files: {e}\")"
      ]
    },
    {
      "cell_type": "code",
      "execution_count": 218,
      "metadata": {
        "id": "YcaYBf-6Yj4R",
        "colab": {
          "base_uri": "https://localhost:8080/"
        },
        "outputId": "57c19d08-8d2c-471d-ad28-8a4c8671f9d4"
      },
      "outputs": [
        {
          "output_type": "stream",
          "name": "stdout",
          "text": [
            "Cannot divide by zero!\n"
          ]
        }
      ],
      "source": [
        "# 5. How would you catch and handle a division by zero error in Python?\n",
        "# Solution:\n",
        "try:\n",
        "    x = 10 / 0\n",
        "except ZeroDivisionError:\n",
        "    print(\"Cannot divide by zero!\")"
      ]
    },
    {
      "cell_type": "code",
      "execution_count": 219,
      "metadata": {
        "id": "BVgM7k5OYj0u",
        "colab": {
          "base_uri": "https://localhost:8080/"
        },
        "outputId": "c48a3efe-5773-4a28-85cd-955d273b3290"
      },
      "outputs": [
        {
          "output_type": "stream",
          "name": "stderr",
          "text": [
            "ERROR:root:Division by zero attempt with numerator: 10\n"
          ]
        },
        {
          "output_type": "stream",
          "name": "stdout",
          "text": [
            "Running division examples...\n",
            "--------------------\n",
            "Error: An attempt was made to divide by zero. See 'app_errors.log' for details.\n",
            "--------------------\n",
            "Program finished. If an error occurred, check the 'app_errors.log' file.\n"
          ]
        }
      ],
      "source": [
        "# 6. Write a Python program that logs an error message to a log file when a division by zero exception occurs.\n",
        "\n",
        "import logging\n",
        "\n",
        "# Configure logging to write to a file (e.g., app_errors.log)\n",
        "logging.basicConfig(filename='app_errors.log', level=logging.ERROR)\n",
        "\n",
        "def safe_divide(numerator, denominator):\n",
        "    \"\"\"Divides two numbers and logs an error if division by zero occurs.\"\"\"\n",
        "    try:\n",
        "        result = numerator / denominator\n",
        "        logging.info(f\"Successfully divided {numerator} by {denominator}. Result: {result}\")\n",
        "        return result\n",
        "    except ZeroDivisionError:\n",
        "        # Log an error message when division by zero occurs\n",
        "        logging.error(f\"Division by zero attempt with numerator: {numerator}\")\n",
        "        print(\"Error: An attempt was made to divide by zero. See 'app_errors.log' for details.\")\n",
        "        return None\n",
        "\n",
        "# Example usage:\n",
        "print(\"Running division examples...\")\n",
        "safe_divide(10, 5)\n",
        "print(\"--------------------\")\n",
        "safe_divide(10, 0)\n",
        "print(\"--------------------\")\n",
        "print(\"Program finished. If an error occurred, check the 'app_errors.log' file.\")"
      ]
    },
    {
      "cell_type": "code",
      "execution_count": 220,
      "metadata": {
        "id": "uLjHTjSdYjyp",
        "colab": {
          "base_uri": "https://localhost:8080/"
        },
        "outputId": "523164de-084f-4264-8f09-2309b005115f"
      },
      "outputs": [
        {
          "output_type": "stream",
          "name": "stderr",
          "text": [
            "WARNING:root:This is a warning message\n",
            "ERROR:root:This is an error message\n"
          ]
        }
      ],
      "source": [
        "# 7. How do you log information at different levels (INFO, ERROR, WARNING) in Python using the logging module?\n",
        "# Solution:\n",
        "logging.basicConfig(filename=\"app.log\", level=logging.INFO)\n",
        "logging.info(\"This is an informational message\")\n",
        "logging.warning(\"This is a warning message\")\n",
        "logging.error(\"This is an error message\")"
      ]
    },
    {
      "cell_type": "code",
      "execution_count": 221,
      "metadata": {
        "id": "KPI1RcVyYjww",
        "colab": {
          "base_uri": "https://localhost:8080/"
        },
        "outputId": "7338a14f-91e8-476d-b45f-a13e42caa564"
      },
      "outputs": [
        {
          "output_type": "stream",
          "name": "stdout",
          "text": [
            "Error opening file\n"
          ]
        }
      ],
      "source": [
        "# 8. Write a program to handle a file opening error using exception handling.\n",
        "# Solution:\n",
        "try:\n",
        "    file = open(\"file.txt\", \"r\")\n",
        "except IOError:\n",
        "    print(\"Error opening file\")\n",
        "else:\n",
        "    print(\"File opened successfully\")\n",
        "    file.close()"
      ]
    },
    {
      "cell_type": "code",
      "execution_count": 222,
      "metadata": {
        "id": "GS2Lsn6wYjuX",
        "colab": {
          "base_uri": "https://localhost:8080/"
        },
        "outputId": "cdacec9c-75a4-4132-e19b-2ffbf0840ef9"
      },
      "outputs": [
        {
          "output_type": "stream",
          "name": "stdout",
          "text": [
            "['Hello, this is a sample string.']\n"
          ]
        }
      ],
      "source": [
        "# 9. How can you read a file line by line and store its content in a list in Python?\n",
        "# Solution:\n",
        "with open(\"example.txt\", \"r\") as file:\n",
        "    lines = [line.strip() for line in file]\n",
        "print(lines)"
      ]
    },
    {
      "cell_type": "code",
      "execution_count": 225,
      "metadata": {
        "id": "Zk0BWiLfYjr5",
        "colab": {
          "base_uri": "https://localhost:8080/"
        },
        "outputId": "ce9bf4f0-f4c4-4dba-e3e4-b44995a369ae"
      },
      "outputs": [
        {
          "output_type": "stream",
          "name": "stdout",
          "text": [
            "Data appended to file successfully.\n"
          ]
        }
      ],
      "source": [
        "# 10. How can you append data to an existing file in Python?\n",
        "# Solution:\n",
        "with open(\"example.txt\", \"a\") as file:  # \"a\" mode opens the file for appending\n",
        "    file.write(\"This line will be added to the existing file.\\n\")\n",
        "\n",
        "print(\"Data appended to file successfully.\")"
      ]
    },
    {
      "cell_type": "code",
      "execution_count": 226,
      "metadata": {
        "id": "z_WgQi4zYjiM",
        "colab": {
          "base_uri": "https://localhost:8080/"
        },
        "outputId": "cac8b7af-5c94-4a06-8303-b948497e6f9c"
      },
      "outputs": [
        {
          "output_type": "stream",
          "name": "stdout",
          "text": [
            "Key does not exist!\n"
          ]
        }
      ],
      "source": [
        "# 11. Write a Python program that uses a try-except block to handle an error when attempting to access a dictionary key that doesn't exist.\n",
        "# Solution:\n",
        "my_dict = {\"a\": 1, \"b\": 2}\n",
        "try:\n",
        "    print(my_dict[\"c\"])\n",
        "except KeyError:\n",
        "    print(\"Key does not exist!\")"
      ]
    },
    {
      "cell_type": "code",
      "execution_count": 227,
      "metadata": {
        "id": "N6Nc54gHYjgD",
        "colab": {
          "base_uri": "https://localhost:8080/"
        },
        "outputId": "46835dbe-d0af-46f7-b198-94680c6d53b9"
      },
      "outputs": [
        {
          "output_type": "stream",
          "name": "stdout",
          "text": [
            "ValueError occurred!\n"
          ]
        }
      ],
      "source": [
        "# 12. Write a program that demonstrates using multiple except blocks to handle different types of exceptions.\n",
        "# Solution:\n",
        "try:\n",
        "    x = int(\"abc\")\n",
        "    y = 10 / 0\n",
        "except ValueError:\n",
        "    print(\"ValueError occurred!\")\n",
        "except ZeroDivisionError:\n",
        "    print(\"Division by zero occurred!\")"
      ]
    },
    {
      "cell_type": "code",
      "execution_count": 228,
      "metadata": {
        "id": "65P-q3vJYjd0",
        "colab": {
          "base_uri": "https://localhost:8080/"
        },
        "outputId": "20f9212d-0312-4a2f-8444-13df5365a28f"
      },
      "outputs": [
        {
          "output_type": "stream",
          "name": "stdout",
          "text": [
            "File exists!\n"
          ]
        }
      ],
      "source": [
        "# 13. How would you check if a file exists before attempting to read it in Python?\n",
        "# Solution:\n",
        "import os\n",
        "if os.path.exists(\"example.txt\"):\n",
        "    print(\"File exists!\")\n",
        "else:\n",
        "    print(\"File does not exist!\")"
      ]
    },
    {
      "cell_type": "code",
      "execution_count": 229,
      "metadata": {
        "id": "1WhpgPU_Yjbg",
        "colab": {
          "base_uri": "https://localhost:8080/"
        },
        "outputId": "09d9ba20-cac8-4109-b04a-da80949888e9"
      },
      "outputs": [
        {
          "output_type": "stream",
          "name": "stderr",
          "text": [
            "ERROR:root:An error occurred: division by zero\n"
          ]
        },
        {
          "output_type": "stream",
          "name": "stdout",
          "text": [
            "Logging complete. Check 'app.log' for messages.\n"
          ]
        }
      ],
      "source": [
        "# 14. Write a program that uses the logging module to log both informational and error messages.\n",
        "\n",
        "import logging\n",
        "\n",
        "# Configure logging\n",
        "logging.basicConfig(\n",
        "    filename=\"app.log\",        # Log file name\n",
        "    level=logging.INFO,         # Log level\n",
        "    format=\"%(asctime)s - %(levelname)s - %(message)s\"  # Log message format\n",
        ")\n",
        "\n",
        "# Log an informational message\n",
        "logging.info(\"This is an informational message.\")\n",
        "\n",
        "# Example of logging an error\n",
        "try:\n",
        "    result = 10 / 0  # This will raise a ZeroDivisionError\n",
        "except ZeroDivisionError as e:\n",
        "    logging.error(f\"An error occurred: {e}\")\n",
        "\n",
        "print(\"Logging complete. Check 'app.log' for messages.\")\n"
      ]
    },
    {
      "cell_type": "code",
      "execution_count": 230,
      "metadata": {
        "id": "L6cbmU8iYjZU",
        "colab": {
          "base_uri": "https://localhost:8080/"
        },
        "outputId": "ecac3a90-bf9c-4d97-e911-65d32235f473"
      },
      "outputs": [
        {
          "output_type": "stream",
          "name": "stdout",
          "text": [
            "Hello, this is a sample string.\n",
            "This line will be appended.\n",
            "This line will be appended.\n",
            "This line will be added to the existing file.\n",
            "\n"
          ]
        }
      ],
      "source": [
        "# 15. Write a Python program that prints the content of a file and handles the case when the file is empty.\n",
        "# Solution:\n",
        "with open(\"example.txt\", \"r\") as file:\n",
        "    content = file.read()\n",
        "    if content:\n",
        "        print(content)\n",
        "    else:\n",
        "        print(\"File is empty!\")"
      ]
    },
    {
      "cell_type": "code",
      "execution_count": 232,
      "metadata": {
        "id": "PwsqmEuJbsbg",
        "colab": {
          "base_uri": "https://localhost:8080/"
        },
        "outputId": "c176f75e-c6f5-4119-d033-61dc1b8b3200"
      },
      "outputs": [
        {
          "output_type": "stream",
          "name": "stdout",
          "text": [
            "Requirement already satisfied: memory-profiler in /usr/local/lib/python3.12/dist-packages (0.61.0)\n",
            "Requirement already satisfied: psutil in /usr/local/lib/python3.12/dist-packages (from memory-profiler) (5.9.5)\n",
            "The memory_profiler extension is already loaded. To reload it, use:\n",
            "  %reload_ext memory_profiler\n",
            "ERROR: Could not find file /tmp/ipython-input-954971681.py\n"
          ]
        }
      ],
      "source": [
        "# 16. Demonstrate how to use memory profiling to check the memory usage of a small program.\n",
        "# Step 1: Install memory-profiler (run only once)\n",
        "!pip install memory-profiler\n",
        "\n",
        "# Step 2: Load memory profiler extension\n",
        "%load_ext memory_profiler\n",
        "\n",
        "# Step 3: Import profile decorator\n",
        "from memory_profiler import profile\n",
        "\n",
        "# Step 4: Define the function to profile\n",
        "@profile\n",
        "def my_function():\n",
        "    # Step 4a: Create a large list\n",
        "    numbers = [i for i in range(1000000)]\n",
        "    # Step 4b: Square each number\n",
        "    squared = [n**2 for n in numbers]\n",
        "    # Step 4c: Filter even numbers\n",
        "    filtered = [n for n in squared if n % 2 == 0]\n",
        "    return filtered\n",
        "\n",
        "# Step 5: Call the function\n",
        "result = my_function()\n",
        "\n",
        "# Optional: Use %mprun for selective profiling (requires function already run)\n",
        "# %mprun -f my_function my_function()\n"
      ]
    },
    {
      "cell_type": "code",
      "execution_count": 233,
      "metadata": {
        "id": "zcgRzzZsYjTB",
        "colab": {
          "base_uri": "https://localhost:8080/"
        },
        "outputId": "37779cca-9c22-4e71-d33b-e687fa899cea"
      },
      "outputs": [
        {
          "output_type": "stream",
          "name": "stdout",
          "text": [
            "Numbers have been successfully written to 'numbers.txt'.\n"
          ]
        }
      ],
      "source": [
        "# 17. Write a Python program to create and write a list of numbers to a file, one number per line.\n",
        "numbers = [10, 20, 30, 40, 50]\n",
        "\n",
        "# File name\n",
        "file_name = \"numbers.txt\"\n",
        "\n",
        "try:\n",
        "    # Open the file in write mode\n",
        "    with open(file_name, \"w\") as file:\n",
        "        for num in numbers:\n",
        "            file.write(f\"{num}\\n\")  # Write each number on a new line\n",
        "    print(f\"Numbers have been successfully written to '{file_name}'.\")\n",
        "\n",
        "except IOError as e:\n",
        "    print(f\"An error occurred while writing to the file: {e}\")"
      ]
    },
    {
      "cell_type": "code",
      "source": [
        "#18. How would you implement a basic logging setup that logs to a file with rotation after 1MB?\n",
        "\n",
        "# This program demonstrates a basic logging setup with file rotation.\n",
        "# The log file will automatically rotate after reaching a size of 1MB.\n",
        "\n",
        "import logging\n",
        "from logging.handlers import RotatingFileHandler\n",
        "import time\n",
        "\n",
        "# --- Configuration ---\n",
        "LOG_FILE = \"rotating_app.log\"\n",
        "MAX_BYTES = 1024 * 1024  # 1 MB\n",
        "BACKUP_COUNT = 5\n",
        "LOG_LEVEL = logging.INFO\n",
        "\n",
        "# --- Setup the logger ---\n",
        "logger = logging.getLogger(\"MyLogger\")\n",
        "logger.setLevel(LOG_LEVEL)\n",
        "\n",
        "# --- Rotating File Handler ---\n",
        "file_handler = RotatingFileHandler(\n",
        "    LOG_FILE, maxBytes=MAX_BYTES, backupCount=BACKUP_COUNT\n",
        ")\n",
        "file_formatter = logging.Formatter(\n",
        "    '%(asctime)s - %(name)s - %(levelname)s - %(message)s'\n",
        ")\n",
        "file_handler.setFormatter(file_formatter)\n",
        "\n",
        "# --- Console Handler ---\n",
        "console_handler = logging.StreamHandler()\n",
        "console_formatter = logging.Formatter('%(name)s - %(levelname)s - %(message)s')\n",
        "console_handler.setFormatter(console_formatter)\n",
        "\n",
        "# --- Add handlers to logger ---\n",
        "logger.addHandler(file_handler)\n",
        "logger.addHandler(console_handler)\n",
        "\n",
        "# --- Example Usage ---\n",
        "if __name__ == \"__main__\":\n",
        "    print(f\"Generating log messages to '{LOG_FILE}'.\")\n",
        "    print(f\"Rotation occurs at {MAX_BYTES / (1024 * 1024)} MB, keeping {BACKUP_COUNT} backups.\")\n",
        "\n",
        "    long_message = \"This is a long informational log message that will help demonstrate file rotation. \" * 20\n",
        "\n",
        "    try:\n",
        "        for i in range(5):\n",
        "            logger.info(f\"Message number {i}: {long_message}\")\n",
        "            time.sleep(0.05)  # reduced sleep for quicker demo\n",
        "    except Exception as e:\n",
        "        logger.error(f\"An error occurred: {e}\")\n",
        "    finally:\n",
        "        print(\"\\nLog generation complete. Check the directory for the log files.\")\n"
      ],
      "metadata": {
        "colab": {
          "base_uri": "https://localhost:8080/"
        },
        "id": "H8XOjlXm1JfZ",
        "outputId": "d62d469f-ddbc-4b09-f636-32f222da41f8"
      },
      "execution_count": 239,
      "outputs": [
        {
          "output_type": "stream",
          "name": "stderr",
          "text": [
            "MyLogger - INFO - Message number 0: This is a long informational log message that will help demonstrate file rotation. This is a long informational log message that will help demonstrate file rotation. This is a long informational log message that will help demonstrate file rotation. This is a long informational log message that will help demonstrate file rotation. This is a long informational log message that will help demonstrate file rotation. This is a long informational log message that will help demonstrate file rotation. This is a long informational log message that will help demonstrate file rotation. This is a long informational log message that will help demonstrate file rotation. This is a long informational log message that will help demonstrate file rotation. This is a long informational log message that will help demonstrate file rotation. This is a long informational log message that will help demonstrate file rotation. This is a long informational log message that will help demonstrate file rotation. This is a long informational log message that will help demonstrate file rotation. This is a long informational log message that will help demonstrate file rotation. This is a long informational log message that will help demonstrate file rotation. This is a long informational log message that will help demonstrate file rotation. This is a long informational log message that will help demonstrate file rotation. This is a long informational log message that will help demonstrate file rotation. This is a long informational log message that will help demonstrate file rotation. This is a long informational log message that will help demonstrate file rotation. \n",
            "MyLogger - INFO - Message number 0: This is a long informational log message that will help demonstrate file rotation. This is a long informational log message that will help demonstrate file rotation. This is a long informational log message that will help demonstrate file rotation. This is a long informational log message that will help demonstrate file rotation. This is a long informational log message that will help demonstrate file rotation. This is a long informational log message that will help demonstrate file rotation. This is a long informational log message that will help demonstrate file rotation. This is a long informational log message that will help demonstrate file rotation. This is a long informational log message that will help demonstrate file rotation. This is a long informational log message that will help demonstrate file rotation. This is a long informational log message that will help demonstrate file rotation. This is a long informational log message that will help demonstrate file rotation. This is a long informational log message that will help demonstrate file rotation. This is a long informational log message that will help demonstrate file rotation. This is a long informational log message that will help demonstrate file rotation. This is a long informational log message that will help demonstrate file rotation. This is a long informational log message that will help demonstrate file rotation. This is a long informational log message that will help demonstrate file rotation. This is a long informational log message that will help demonstrate file rotation. This is a long informational log message that will help demonstrate file rotation. \n",
            "MyLogger - INFO - Message number 0: This is a long informational log message that will help demonstrate file rotation. This is a long informational log message that will help demonstrate file rotation. This is a long informational log message that will help demonstrate file rotation. This is a long informational log message that will help demonstrate file rotation. This is a long informational log message that will help demonstrate file rotation. This is a long informational log message that will help demonstrate file rotation. This is a long informational log message that will help demonstrate file rotation. This is a long informational log message that will help demonstrate file rotation. This is a long informational log message that will help demonstrate file rotation. This is a long informational log message that will help demonstrate file rotation. This is a long informational log message that will help demonstrate file rotation. This is a long informational log message that will help demonstrate file rotation. This is a long informational log message that will help demonstrate file rotation. This is a long informational log message that will help demonstrate file rotation. This is a long informational log message that will help demonstrate file rotation. This is a long informational log message that will help demonstrate file rotation. This is a long informational log message that will help demonstrate file rotation. This is a long informational log message that will help demonstrate file rotation. This is a long informational log message that will help demonstrate file rotation. This is a long informational log message that will help demonstrate file rotation. \n",
            "INFO:MyLogger:Message number 0: This is a long informational log message that will help demonstrate file rotation. This is a long informational log message that will help demonstrate file rotation. This is a long informational log message that will help demonstrate file rotation. This is a long informational log message that will help demonstrate file rotation. This is a long informational log message that will help demonstrate file rotation. This is a long informational log message that will help demonstrate file rotation. This is a long informational log message that will help demonstrate file rotation. This is a long informational log message that will help demonstrate file rotation. This is a long informational log message that will help demonstrate file rotation. This is a long informational log message that will help demonstrate file rotation. This is a long informational log message that will help demonstrate file rotation. This is a long informational log message that will help demonstrate file rotation. This is a long informational log message that will help demonstrate file rotation. This is a long informational log message that will help demonstrate file rotation. This is a long informational log message that will help demonstrate file rotation. This is a long informational log message that will help demonstrate file rotation. This is a long informational log message that will help demonstrate file rotation. This is a long informational log message that will help demonstrate file rotation. This is a long informational log message that will help demonstrate file rotation. This is a long informational log message that will help demonstrate file rotation. \n",
            "MyLogger - INFO - Message number 1: This is a long informational log message that will help demonstrate file rotation. This is a long informational log message that will help demonstrate file rotation. This is a long informational log message that will help demonstrate file rotation. This is a long informational log message that will help demonstrate file rotation. This is a long informational log message that will help demonstrate file rotation. This is a long informational log message that will help demonstrate file rotation. This is a long informational log message that will help demonstrate file rotation. This is a long informational log message that will help demonstrate file rotation. This is a long informational log message that will help demonstrate file rotation. This is a long informational log message that will help demonstrate file rotation. This is a long informational log message that will help demonstrate file rotation. This is a long informational log message that will help demonstrate file rotation. This is a long informational log message that will help demonstrate file rotation. This is a long informational log message that will help demonstrate file rotation. This is a long informational log message that will help demonstrate file rotation. This is a long informational log message that will help demonstrate file rotation. This is a long informational log message that will help demonstrate file rotation. This is a long informational log message that will help demonstrate file rotation. This is a long informational log message that will help demonstrate file rotation. This is a long informational log message that will help demonstrate file rotation. \n",
            "MyLogger - INFO - Message number 1: This is a long informational log message that will help demonstrate file rotation. This is a long informational log message that will help demonstrate file rotation. This is a long informational log message that will help demonstrate file rotation. This is a long informational log message that will help demonstrate file rotation. This is a long informational log message that will help demonstrate file rotation. This is a long informational log message that will help demonstrate file rotation. This is a long informational log message that will help demonstrate file rotation. This is a long informational log message that will help demonstrate file rotation. This is a long informational log message that will help demonstrate file rotation. This is a long informational log message that will help demonstrate file rotation. This is a long informational log message that will help demonstrate file rotation. This is a long informational log message that will help demonstrate file rotation. This is a long informational log message that will help demonstrate file rotation. This is a long informational log message that will help demonstrate file rotation. This is a long informational log message that will help demonstrate file rotation. This is a long informational log message that will help demonstrate file rotation. This is a long informational log message that will help demonstrate file rotation. This is a long informational log message that will help demonstrate file rotation. This is a long informational log message that will help demonstrate file rotation. This is a long informational log message that will help demonstrate file rotation. \n",
            "MyLogger - INFO - Message number 1: This is a long informational log message that will help demonstrate file rotation. This is a long informational log message that will help demonstrate file rotation. This is a long informational log message that will help demonstrate file rotation. This is a long informational log message that will help demonstrate file rotation. This is a long informational log message that will help demonstrate file rotation. This is a long informational log message that will help demonstrate file rotation. This is a long informational log message that will help demonstrate file rotation. This is a long informational log message that will help demonstrate file rotation. This is a long informational log message that will help demonstrate file rotation. This is a long informational log message that will help demonstrate file rotation. This is a long informational log message that will help demonstrate file rotation. This is a long informational log message that will help demonstrate file rotation. This is a long informational log message that will help demonstrate file rotation. This is a long informational log message that will help demonstrate file rotation. This is a long informational log message that will help demonstrate file rotation. This is a long informational log message that will help demonstrate file rotation. This is a long informational log message that will help demonstrate file rotation. This is a long informational log message that will help demonstrate file rotation. This is a long informational log message that will help demonstrate file rotation. This is a long informational log message that will help demonstrate file rotation. \n",
            "INFO:MyLogger:Message number 1: This is a long informational log message that will help demonstrate file rotation. This is a long informational log message that will help demonstrate file rotation. This is a long informational log message that will help demonstrate file rotation. This is a long informational log message that will help demonstrate file rotation. This is a long informational log message that will help demonstrate file rotation. This is a long informational log message that will help demonstrate file rotation. This is a long informational log message that will help demonstrate file rotation. This is a long informational log message that will help demonstrate file rotation. This is a long informational log message that will help demonstrate file rotation. This is a long informational log message that will help demonstrate file rotation. This is a long informational log message that will help demonstrate file rotation. This is a long informational log message that will help demonstrate file rotation. This is a long informational log message that will help demonstrate file rotation. This is a long informational log message that will help demonstrate file rotation. This is a long informational log message that will help demonstrate file rotation. This is a long informational log message that will help demonstrate file rotation. This is a long informational log message that will help demonstrate file rotation. This is a long informational log message that will help demonstrate file rotation. This is a long informational log message that will help demonstrate file rotation. This is a long informational log message that will help demonstrate file rotation. \n",
            "MyLogger - INFO - Message number 2: This is a long informational log message that will help demonstrate file rotation. This is a long informational log message that will help demonstrate file rotation. This is a long informational log message that will help demonstrate file rotation. This is a long informational log message that will help demonstrate file rotation. This is a long informational log message that will help demonstrate file rotation. This is a long informational log message that will help demonstrate file rotation. This is a long informational log message that will help demonstrate file rotation. This is a long informational log message that will help demonstrate file rotation. This is a long informational log message that will help demonstrate file rotation. This is a long informational log message that will help demonstrate file rotation. This is a long informational log message that will help demonstrate file rotation. This is a long informational log message that will help demonstrate file rotation. This is a long informational log message that will help demonstrate file rotation. This is a long informational log message that will help demonstrate file rotation. This is a long informational log message that will help demonstrate file rotation. This is a long informational log message that will help demonstrate file rotation. This is a long informational log message that will help demonstrate file rotation. This is a long informational log message that will help demonstrate file rotation. This is a long informational log message that will help demonstrate file rotation. This is a long informational log message that will help demonstrate file rotation. \n",
            "MyLogger - INFO - Message number 2: This is a long informational log message that will help demonstrate file rotation. This is a long informational log message that will help demonstrate file rotation. This is a long informational log message that will help demonstrate file rotation. This is a long informational log message that will help demonstrate file rotation. This is a long informational log message that will help demonstrate file rotation. This is a long informational log message that will help demonstrate file rotation. This is a long informational log message that will help demonstrate file rotation. This is a long informational log message that will help demonstrate file rotation. This is a long informational log message that will help demonstrate file rotation. This is a long informational log message that will help demonstrate file rotation. This is a long informational log message that will help demonstrate file rotation. This is a long informational log message that will help demonstrate file rotation. This is a long informational log message that will help demonstrate file rotation. This is a long informational log message that will help demonstrate file rotation. This is a long informational log message that will help demonstrate file rotation. This is a long informational log message that will help demonstrate file rotation. This is a long informational log message that will help demonstrate file rotation. This is a long informational log message that will help demonstrate file rotation. This is a long informational log message that will help demonstrate file rotation. This is a long informational log message that will help demonstrate file rotation. \n",
            "MyLogger - INFO - Message number 2: This is a long informational log message that will help demonstrate file rotation. This is a long informational log message that will help demonstrate file rotation. This is a long informational log message that will help demonstrate file rotation. This is a long informational log message that will help demonstrate file rotation. This is a long informational log message that will help demonstrate file rotation. This is a long informational log message that will help demonstrate file rotation. This is a long informational log message that will help demonstrate file rotation. This is a long informational log message that will help demonstrate file rotation. This is a long informational log message that will help demonstrate file rotation. This is a long informational log message that will help demonstrate file rotation. This is a long informational log message that will help demonstrate file rotation. This is a long informational log message that will help demonstrate file rotation. This is a long informational log message that will help demonstrate file rotation. This is a long informational log message that will help demonstrate file rotation. This is a long informational log message that will help demonstrate file rotation. This is a long informational log message that will help demonstrate file rotation. This is a long informational log message that will help demonstrate file rotation. This is a long informational log message that will help demonstrate file rotation. This is a long informational log message that will help demonstrate file rotation. This is a long informational log message that will help demonstrate file rotation. \n",
            "INFO:MyLogger:Message number 2: This is a long informational log message that will help demonstrate file rotation. This is a long informational log message that will help demonstrate file rotation. This is a long informational log message that will help demonstrate file rotation. This is a long informational log message that will help demonstrate file rotation. This is a long informational log message that will help demonstrate file rotation. This is a long informational log message that will help demonstrate file rotation. This is a long informational log message that will help demonstrate file rotation. This is a long informational log message that will help demonstrate file rotation. This is a long informational log message that will help demonstrate file rotation. This is a long informational log message that will help demonstrate file rotation. This is a long informational log message that will help demonstrate file rotation. This is a long informational log message that will help demonstrate file rotation. This is a long informational log message that will help demonstrate file rotation. This is a long informational log message that will help demonstrate file rotation. This is a long informational log message that will help demonstrate file rotation. This is a long informational log message that will help demonstrate file rotation. This is a long informational log message that will help demonstrate file rotation. This is a long informational log message that will help demonstrate file rotation. This is a long informational log message that will help demonstrate file rotation. This is a long informational log message that will help demonstrate file rotation. \n",
            "MyLogger - INFO - Message number 3: This is a long informational log message that will help demonstrate file rotation. This is a long informational log message that will help demonstrate file rotation. This is a long informational log message that will help demonstrate file rotation. This is a long informational log message that will help demonstrate file rotation. This is a long informational log message that will help demonstrate file rotation. This is a long informational log message that will help demonstrate file rotation. This is a long informational log message that will help demonstrate file rotation. This is a long informational log message that will help demonstrate file rotation. This is a long informational log message that will help demonstrate file rotation. This is a long informational log message that will help demonstrate file rotation. This is a long informational log message that will help demonstrate file rotation. This is a long informational log message that will help demonstrate file rotation. This is a long informational log message that will help demonstrate file rotation. This is a long informational log message that will help demonstrate file rotation. This is a long informational log message that will help demonstrate file rotation. This is a long informational log message that will help demonstrate file rotation. This is a long informational log message that will help demonstrate file rotation. This is a long informational log message that will help demonstrate file rotation. This is a long informational log message that will help demonstrate file rotation. This is a long informational log message that will help demonstrate file rotation. \n",
            "MyLogger - INFO - Message number 3: This is a long informational log message that will help demonstrate file rotation. This is a long informational log message that will help demonstrate file rotation. This is a long informational log message that will help demonstrate file rotation. This is a long informational log message that will help demonstrate file rotation. This is a long informational log message that will help demonstrate file rotation. This is a long informational log message that will help demonstrate file rotation. This is a long informational log message that will help demonstrate file rotation. This is a long informational log message that will help demonstrate file rotation. This is a long informational log message that will help demonstrate file rotation. This is a long informational log message that will help demonstrate file rotation. This is a long informational log message that will help demonstrate file rotation. This is a long informational log message that will help demonstrate file rotation. This is a long informational log message that will help demonstrate file rotation. This is a long informational log message that will help demonstrate file rotation. This is a long informational log message that will help demonstrate file rotation. This is a long informational log message that will help demonstrate file rotation. This is a long informational log message that will help demonstrate file rotation. This is a long informational log message that will help demonstrate file rotation. This is a long informational log message that will help demonstrate file rotation. This is a long informational log message that will help demonstrate file rotation. \n",
            "MyLogger - INFO - Message number 3: This is a long informational log message that will help demonstrate file rotation. This is a long informational log message that will help demonstrate file rotation. This is a long informational log message that will help demonstrate file rotation. This is a long informational log message that will help demonstrate file rotation. This is a long informational log message that will help demonstrate file rotation. This is a long informational log message that will help demonstrate file rotation. This is a long informational log message that will help demonstrate file rotation. This is a long informational log message that will help demonstrate file rotation. This is a long informational log message that will help demonstrate file rotation. This is a long informational log message that will help demonstrate file rotation. This is a long informational log message that will help demonstrate file rotation. This is a long informational log message that will help demonstrate file rotation. This is a long informational log message that will help demonstrate file rotation. This is a long informational log message that will help demonstrate file rotation. This is a long informational log message that will help demonstrate file rotation. This is a long informational log message that will help demonstrate file rotation. This is a long informational log message that will help demonstrate file rotation. This is a long informational log message that will help demonstrate file rotation. This is a long informational log message that will help demonstrate file rotation. This is a long informational log message that will help demonstrate file rotation. \n",
            "INFO:MyLogger:Message number 3: This is a long informational log message that will help demonstrate file rotation. This is a long informational log message that will help demonstrate file rotation. This is a long informational log message that will help demonstrate file rotation. This is a long informational log message that will help demonstrate file rotation. This is a long informational log message that will help demonstrate file rotation. This is a long informational log message that will help demonstrate file rotation. This is a long informational log message that will help demonstrate file rotation. This is a long informational log message that will help demonstrate file rotation. This is a long informational log message that will help demonstrate file rotation. This is a long informational log message that will help demonstrate file rotation. This is a long informational log message that will help demonstrate file rotation. This is a long informational log message that will help demonstrate file rotation. This is a long informational log message that will help demonstrate file rotation. This is a long informational log message that will help demonstrate file rotation. This is a long informational log message that will help demonstrate file rotation. This is a long informational log message that will help demonstrate file rotation. This is a long informational log message that will help demonstrate file rotation. This is a long informational log message that will help demonstrate file rotation. This is a long informational log message that will help demonstrate file rotation. This is a long informational log message that will help demonstrate file rotation. \n"
          ]
        },
        {
          "output_type": "stream",
          "name": "stdout",
          "text": [
            "Generating log messages to 'rotating_app.log'.\n",
            "Rotation occurs at 1.0 MB, keeping 5 backups.\n"
          ]
        },
        {
          "output_type": "stream",
          "name": "stderr",
          "text": [
            "MyLogger - INFO - Message number 4: This is a long informational log message that will help demonstrate file rotation. This is a long informational log message that will help demonstrate file rotation. This is a long informational log message that will help demonstrate file rotation. This is a long informational log message that will help demonstrate file rotation. This is a long informational log message that will help demonstrate file rotation. This is a long informational log message that will help demonstrate file rotation. This is a long informational log message that will help demonstrate file rotation. This is a long informational log message that will help demonstrate file rotation. This is a long informational log message that will help demonstrate file rotation. This is a long informational log message that will help demonstrate file rotation. This is a long informational log message that will help demonstrate file rotation. This is a long informational log message that will help demonstrate file rotation. This is a long informational log message that will help demonstrate file rotation. This is a long informational log message that will help demonstrate file rotation. This is a long informational log message that will help demonstrate file rotation. This is a long informational log message that will help demonstrate file rotation. This is a long informational log message that will help demonstrate file rotation. This is a long informational log message that will help demonstrate file rotation. This is a long informational log message that will help demonstrate file rotation. This is a long informational log message that will help demonstrate file rotation. \n",
            "MyLogger - INFO - Message number 4: This is a long informational log message that will help demonstrate file rotation. This is a long informational log message that will help demonstrate file rotation. This is a long informational log message that will help demonstrate file rotation. This is a long informational log message that will help demonstrate file rotation. This is a long informational log message that will help demonstrate file rotation. This is a long informational log message that will help demonstrate file rotation. This is a long informational log message that will help demonstrate file rotation. This is a long informational log message that will help demonstrate file rotation. This is a long informational log message that will help demonstrate file rotation. This is a long informational log message that will help demonstrate file rotation. This is a long informational log message that will help demonstrate file rotation. This is a long informational log message that will help demonstrate file rotation. This is a long informational log message that will help demonstrate file rotation. This is a long informational log message that will help demonstrate file rotation. This is a long informational log message that will help demonstrate file rotation. This is a long informational log message that will help demonstrate file rotation. This is a long informational log message that will help demonstrate file rotation. This is a long informational log message that will help demonstrate file rotation. This is a long informational log message that will help demonstrate file rotation. This is a long informational log message that will help demonstrate file rotation. \n",
            "MyLogger - INFO - Message number 4: This is a long informational log message that will help demonstrate file rotation. This is a long informational log message that will help demonstrate file rotation. This is a long informational log message that will help demonstrate file rotation. This is a long informational log message that will help demonstrate file rotation. This is a long informational log message that will help demonstrate file rotation. This is a long informational log message that will help demonstrate file rotation. This is a long informational log message that will help demonstrate file rotation. This is a long informational log message that will help demonstrate file rotation. This is a long informational log message that will help demonstrate file rotation. This is a long informational log message that will help demonstrate file rotation. This is a long informational log message that will help demonstrate file rotation. This is a long informational log message that will help demonstrate file rotation. This is a long informational log message that will help demonstrate file rotation. This is a long informational log message that will help demonstrate file rotation. This is a long informational log message that will help demonstrate file rotation. This is a long informational log message that will help demonstrate file rotation. This is a long informational log message that will help demonstrate file rotation. This is a long informational log message that will help demonstrate file rotation. This is a long informational log message that will help demonstrate file rotation. This is a long informational log message that will help demonstrate file rotation. \n",
            "INFO:MyLogger:Message number 4: This is a long informational log message that will help demonstrate file rotation. This is a long informational log message that will help demonstrate file rotation. This is a long informational log message that will help demonstrate file rotation. This is a long informational log message that will help demonstrate file rotation. This is a long informational log message that will help demonstrate file rotation. This is a long informational log message that will help demonstrate file rotation. This is a long informational log message that will help demonstrate file rotation. This is a long informational log message that will help demonstrate file rotation. This is a long informational log message that will help demonstrate file rotation. This is a long informational log message that will help demonstrate file rotation. This is a long informational log message that will help demonstrate file rotation. This is a long informational log message that will help demonstrate file rotation. This is a long informational log message that will help demonstrate file rotation. This is a long informational log message that will help demonstrate file rotation. This is a long informational log message that will help demonstrate file rotation. This is a long informational log message that will help demonstrate file rotation. This is a long informational log message that will help demonstrate file rotation. This is a long informational log message that will help demonstrate file rotation. This is a long informational log message that will help demonstrate file rotation. This is a long informational log message that will help demonstrate file rotation. \n"
          ]
        },
        {
          "output_type": "stream",
          "name": "stdout",
          "text": [
            "\n",
            "Log generation complete. Check the directory for the log files.\n"
          ]
        }
      ]
    },
    {
      "cell_type": "code",
      "execution_count": 235,
      "metadata": {
        "id": "c7alM1KaXzDf",
        "colab": {
          "base_uri": "https://localhost:8080/"
        },
        "outputId": "56bf3fdf-2592-4152-df18-061bfee0da7c"
      },
      "outputs": [
        {
          "output_type": "stream",
          "name": "stdout",
          "text": [
            "Index out of range!\n"
          ]
        }
      ],
      "source": [
        "# 19. Write a program that handles both IndexError and KeyError using a try-except block.\n",
        "# Solution:\n",
        "my_list = [1, 2]\n",
        "my_dict = {\"a\": 1}\n",
        "try:\n",
        "    print(my_list[5])\n",
        "    print(my_dict[\"b\"])\n",
        "except IndexError:\n",
        "    print(\"Index out of range!\")\n",
        "except KeyError:\n",
        "    print(\"Key not found!\")"
      ]
    },
    {
      "cell_type": "code",
      "execution_count": 240,
      "metadata": {
        "id": "RuktJgTtXzBJ",
        "colab": {
          "base_uri": "https://localhost:8080/"
        },
        "outputId": "72e55518-f8bf-464e-b4b2-c2c5115b6595"
      },
      "outputs": [
        {
          "output_type": "stream",
          "name": "stdout",
          "text": [
            "Hello, this is a sample string.\n",
            "This line will be appended.\n",
            "This line will be appended.\n",
            "This line will be added to the existing file.\n",
            "\n"
          ]
        }
      ],
      "source": [
        "# 20. How would you open a file and read its contents using a context manager in Python?\n",
        "# Solution:\n",
        "with open(\"example.txt\", \"r\") as file:\n",
        "    content = file.read()\n",
        "print(content)"
      ]
    },
    {
      "cell_type": "code",
      "execution_count": 241,
      "metadata": {
        "id": "tsf0WhFJWriN",
        "colab": {
          "base_uri": "https://localhost:8080/"
        },
        "outputId": "686b4eb9-9954-4d3b-a940-3e52b7a3909e"
      },
      "outputs": [
        {
          "output_type": "stream",
          "name": "stdout",
          "text": [
            "0\n"
          ]
        }
      ],
      "source": [
        "# 21. Write a Python program that reads a file and prints the number of occurrences of a specific word.\n",
        "# Solution:\n",
        "word_to_count = \"Python\"\n",
        "with open(\"example.txt\", \"r\") as file:\n",
        "    content = file.read()\n",
        "print(content.count(word_to_count))"
      ]
    },
    {
      "cell_type": "code",
      "execution_count": 242,
      "metadata": {
        "id": "U8YxSN2fWrgL",
        "colab": {
          "base_uri": "https://localhost:8080/"
        },
        "outputId": "0962d969-92b3-4e27-9334-b19f8d3b8125"
      },
      "outputs": [
        {
          "output_type": "stream",
          "name": "stdout",
          "text": [
            "File has content\n"
          ]
        }
      ],
      "source": [
        "# 22. How can you check if a file is empty before attempting to read its contents?\n",
        "# Solution:\n",
        "if os.path.getsize(\"example.txt\") > 0:\n",
        "    print(\"File has content\")\n",
        "else:\n",
        "    print(\"File is empty\")"
      ]
    },
    {
      "cell_type": "code",
      "execution_count": 243,
      "metadata": {
        "id": "618c9e69",
        "colab": {
          "base_uri": "https://localhost:8080/"
        },
        "outputId": "2cd988f7-12d1-4458-f9a9-35e585590cbe"
      },
      "outputs": [
        {
          "output_type": "stream",
          "name": "stderr",
          "text": [
            "ERROR:root:Error occurred while handling the file: [Errno 2] No such file or directory: 'non_existent_file.txt'\n"
          ]
        },
        {
          "output_type": "stream",
          "name": "stdout",
          "text": [
            "Program completed. Check file_errors.log for any errors.\n"
          ]
        }
      ],
      "source": [
        "# 23. Write a Python program that writes to a log file when an error occurs during file handling.\n",
        "\n",
        "import logging\n",
        "\n",
        "# Configure logging to write to a file\n",
        "logging.basicConfig(\n",
        "    filename=\"file_errors.log\",  # Log file name\n",
        "    level=logging.ERROR,         # Log only ERROR level messages and above\n",
        "    format=\"%(asctime)s - %(levelname)s - %(message)s\" # Log format\n",
        ")\n",
        "\n",
        "try:\n",
        "    # Attempt to open a non-existent file\n",
        "    with open(\"non_existent_file.txt\", \"r\") as f:\n",
        "        content = f.read()\n",
        "        print(content)\n",
        "except FileNotFoundError as e:\n",
        "    # Log the error if the file is not found\n",
        "    logging.error(f\"Error occurred while handling the file: {e}\")\n",
        "\n",
        "print(\"Program completed. Check file_errors.log for any errors.\")"
      ]
    }
  ],
  "metadata": {
    "colab": {
      "provenance": []
    },
    "kernelspec": {
      "display_name": "Python 3",
      "name": "python3"
    },
    "language_info": {
      "name": "python"
    }
  },
  "nbformat": 4,
  "nbformat_minor": 0
}