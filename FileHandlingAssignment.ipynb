{
  "nbformat": 4,
  "nbformat_minor": 0,
  "metadata": {
    "colab": {
      "provenance": []
    },
    "kernelspec": {
      "name": "python3",
      "display_name": "Python 3"
    },
    "language_info": {
      "name": "python"
    }
  },
  "cells": [
    {
      "cell_type": "markdown",
      "source": [
        "Files, exceptional handling,\n",
        "logging and memory\n",
        "management-theory questions:-"
      ],
      "metadata": {
        "id": "hMvHoD8haXVR"
      }
    },
    {
      "cell_type": "markdown",
      "source": [
        "1. What is the difference between interpreted and compiled languages?\n",
        "\n",
        "  - Interpreted Languages: Code is executed line by line by an interpreter (e.g., Python, JavaScript). Execution is slower but debugging is easier.\n",
        "\n",
        "  - Compiled Languages: Code is translated into machine code by a compiler before execution (e.g., C, C++). Execution is faster but debugging can be harder."
      ],
      "metadata": {
        "id": "WP6AYL6AStBP"
      }
    },
    {
      "cell_type": "markdown",
      "source": [
        "2. What is exception handling in Python?\n",
        "\n",
        "  - Exception handling is a mechanism to deal with runtime errors in a controlled way using try, except, else, and finally blocks. It prevents program crashes."
      ],
      "metadata": {
        "id": "KbI_EMhMS16V"
      }
    },
    {
      "cell_type": "markdown",
      "source": [
        "3. What is the purpose of the finally block in exception handling?\n",
        "\n",
        "  - The finally block always executes, regardless of whether an exception occurred. It is typically used for cleanup operations like closing files or releasing resources."
      ],
      "metadata": {
        "id": "OQ92QAT2S3I8"
      }
    },
    {
      "cell_type": "markdown",
      "source": [
        "4. What is logging in Python?\n",
        "\n",
        "  - Logging is the process of recording events, errors, and messages during program execution using the logging module. It helps in debugging and monitoring applications."
      ],
      "metadata": {
        "id": "ne64iXsSS3FU"
      }
    },
    {
      "cell_type": "markdown",
      "source": [
        "5. What is the significance of the __del__ method in Python?\n",
        "\n",
        "  - The __del__ method is a destructor method, called when an object is about to be destroyed (garbage collected). It is used to clean up resources (e.g., closing database connections)."
      ],
      "metadata": {
        "id": "1fzZoHRyS3DO"
      }
    },
    {
      "cell_type": "markdown",
      "source": [
        "6. What is the difference between import and from ... import in Python?\n",
        "\n",
        "  - import module → Imports the whole module; use with module.function().\n",
        "\n",
        "  - from module import function → Imports specific items directly; use function without prefix."
      ],
      "metadata": {
        "id": "G-VQ5q7QS3At"
      }
    },
    {
      "cell_type": "markdown",
      "source": [
        "7. How can you handle multiple exceptions in Python?\n",
        "\n",
        "  - Use multiple except blocks to handle each exception separately.\n",
        "\n",
        "  - Or combine exceptions in a tuple to handle them in one block:\n",
        "  - This ensures that the program can respond appropriately to different types of errors without crashing.\n",
        "  "
      ],
      "metadata": {
        "id": "1EI-4VgZS2-t"
      }
    },
    {
      "cell_type": "code",
      "source": [
        "try:\n",
        "    x = int(input(\"Enter a number: \"))  # Could raise ValueError\n",
        "    y = int(input(\"Enter another number: \"))  # Could raise ValueError\n",
        "    result = x / y  # Could raise ZeroDivisionError\n",
        "    print(\"Result:\", result)\n",
        "\n",
        "    # Example of TypeError\n",
        "    text = \"Hello\"\n",
        "    number = 5\n",
        "    print(text + number)  # This will raise TypeError\n",
        "\n",
        "except ZeroDivisionError:\n",
        "    print(\"Error: Cannot divide by zero!\")\n",
        "\n",
        "except ValueError:\n",
        "    print(\"Error: Please enter a valid number!\")\n",
        "\n",
        "except TypeError:\n",
        "    print(\"Error: Cannot combine different data types (e.g., string + number)\")\n",
        "\n",
        "finally:\n",
        "    print(\"Program finished.\")"
      ],
      "metadata": {
        "colab": {
          "base_uri": "https://localhost:8080/"
        },
        "id": "V2nQ-hT0aqyH",
        "outputId": "d93b145f-8908-4d55-e57c-12f0fa683840"
      },
      "execution_count": 119,
      "outputs": [
        {
          "output_type": "stream",
          "name": "stdout",
          "text": [
            "Enter a number: 322\n",
            "Enter another number: 1321\n",
            "Result: 0.24375473126419378\n",
            "Error: Cannot combine different data types (e.g., string + number)\n",
            "Program finished.\n"
          ]
        }
      ]
    },
    {
      "cell_type": "markdown",
      "source": [
        "8. What is the purpose of the with statement when handling files in Python?\n",
        "\n",
        "  - Ensures proper acquisition and release of resources (like files) without explicitly calling close().\n",
        "\n",
        "  - Automatically handles exceptions and closes the file even if an error occurs inside the block.\n",
        "\n",
        "  - Reduces boilerplate code and prevents resource leaks."
      ],
      "metadata": {
        "id": "nXJIEqvLS28P"
      }
    },
    {
      "cell_type": "markdown",
      "source": [
        "9. What is the difference between multithreading and multiprocessing?\n",
        "\n",
        "  - Multithreading: Multiple threads within one process share memory; suitable for I/O-bound tasks like network or file operations.\n",
        "\n",
        "  - Multiprocessing: Separate processes with independent memory; ideal for CPU-bound tasks like heavy calculations.\n",
        "\n",
        "  - Multithreading is lighter on resources but limited by Python's Global Interpreter Lock (GIL). Multiprocessing bypasses GIL, enabling true parallelism."
      ],
      "metadata": {
        "id": "piBq_uAmS26F"
      }
    },
    {
      "cell_type": "markdown",
      "source": [
        "10. What are the advantages of using logging in a program?\n",
        "\n",
        "  - Tracks program execution and records errors, warnings, or informational messages.\n",
        "\n",
        "  - Helps in debugging complex applications by providing context about program flow.\n",
        "\n",
        "  - Supports multiple severity levels and output options (console, file, or remote server).\n",
        "\n",
        "  - Can be used for auditing and monitoring production systems without interrupting program execution."
      ],
      "metadata": {
        "id": "T1Ht4GAdS24B"
      }
    },
    {
      "cell_type": "markdown",
      "source": [
        "11. What is memory management in Python?\n",
        "\n",
        "  - Python manages memory automatically via private heap storage and a garbage collector.\n",
        "\n",
        "  - Tracks object references, frees unused memory, and prevents leaks.\n",
        "\n",
        "  - Reduces programmer burden, allowing focus on logic rather than memory allocation."
      ],
      "metadata": {
        "id": "FPHj0BGtS21p"
      }
    },
    {
      "cell_type": "markdown",
      "source": [
        "12. What are the basic steps involved in exception handling in Python?\n",
        "\n",
        "  - Place risky code inside a try block.\n",
        "\n",
        "  - Catch exceptions using except.\n",
        "\n",
        "  - Use else for code that runs only if no exception occurs.\n",
        "\n",
        "  - Use finally for cleanup tasks.\n",
        "\n",
        "  - This structure ensures controlled execution and resource safety in programs."
      ],
      "metadata": {
        "id": "q7xgRfAbS2zR"
      }
    },
    {
      "cell_type": "markdown",
      "source": [
        "13. Why is memory management important in Python?\n",
        "\n",
        "  - Prevents memory leaks and optimizes performance.\n",
        "\n",
        "  - Ensures efficient resource allocation for running programs.\n",
        "\n",
        "  - Helps maintain system stability and prevents crashes due to memory exhaustion."
      ],
      "metadata": {
        "id": "eORZFo27S2u2"
      }
    },
    {
      "cell_type": "markdown",
      "source": [
        "14. What is the role of try and except in exception handling?\n",
        "\n",
        "  - try: Contains code that may generate exceptions.\n",
        "\n",
        "  - except: Handles exceptions, preventing program termination and providing recovery mechanisms.\n",
        "\n",
        "  - Together, they enable robust and fault-tolerant applications."
      ],
      "metadata": {
        "id": "QXClxTbfS2w9"
      }
    },
    {
      "cell_type": "markdown",
      "source": [
        "15. How does Python's garbage collection system work?\n",
        "\n",
        "  - Uses reference counting to track object usage.\n",
        "\n",
        "  - Cleans up circular references via cyclic garbage collector.\n",
        "\n",
        "  - Ensures efficient memory utilization and reduces memory leaks without manual intervention."
      ],
      "metadata": {
        "id": "l__fAg9wU7JR"
      }
    },
    {
      "cell_type": "markdown",
      "source": [
        "16. What is the purpose of the else block in exception handling?\n",
        "\n",
        "  - Executes only if no exception occurs in the try block.\n",
        "\n",
        "  - Can be used for code that should run after successful completion of try.\n",
        "\n",
        "  - Helps separate normal execution logic from exception handling code."
      ],
      "metadata": {
        "id": "oKLPd6PqU7F4"
      }
    },
    {
      "cell_type": "markdown",
      "source": [
        "17. What are the common logging levels in Python?\n",
        "\n",
        "  - DEBUG, INFO, WARNING, ERROR, CRITICAL.\n",
        "\n",
        "  - Allows filtering messages based on severity.\n",
        "\n",
        "  - Provides better control over the logging output in large applications."
      ],
      "metadata": {
        "id": "6-TRva6UU7DZ"
      }
    },
    {
      "cell_type": "markdown",
      "source": [
        "18. What is the difference between os.fork() and multiprocessing in Python?\n",
        "\n",
        "  - os.fork(): Unix-only, directly creates a child process at the OS level.\n",
        "\n",
        "  - multiprocessing: Cross-platform, provides easy-to-use API for creating processes and sharing data.\n",
        "\n",
        "  - Multiprocessing is safer and more flexible, especially for modern Python applications."
      ],
      "metadata": {
        "id": "6Fy1tX7oU7BX"
      }
    },
    {
      "cell_type": "markdown",
      "source": [
        "19. What is the importance of closing a file in Python?\n",
        "\n",
        "  - Releases system resources and ensures data is properly written to disk.\n",
        "\n",
        "  - Prevents data corruption and potential memory leaks.\n",
        "\n",
        "  - Improves program reliability and resource management."
      ],
      "metadata": {
        "id": "K0L1JSHZU6_M"
      }
    },
    {
      "cell_type": "markdown",
      "source": [
        "20. What is the difference between file.read() and file.readline()?\n",
        "\n",
        "  - file.read(): Reads entire file content or specified bytes into memory.\n",
        "\n",
        "  - file.readline(): Reads one line at a time; useful for processing large files efficiently.\n",
        "\n",
        "  - Choosing the correct method affects performance and memory usage."
      ],
      "metadata": {
        "id": "Qbjs9ZvDU69Z"
      }
    },
    {
      "cell_type": "markdown",
      "source": [
        "21. What is the logging module in Python used for?\n",
        "\n",
        "  - Provides a framework to record program events with different severity levels.\n",
        "\n",
        "  - Supports logging to multiple outputs like console, files, or network.\n",
        "\n",
        "  - Useful for debugging, monitoring, and maintaining applications over time."
      ],
      "metadata": {
        "id": "Qg7E5NReU663"
      }
    },
    {
      "cell_type": "markdown",
      "source": [
        "22. What is the os module in Python used for in file handling?\n",
        "\n",
        "  - Provides OS-level operations like creating, deleting, renaming files and directories.\n",
        "\n",
        "  - Handles paths, permissions, and system-level file operations.\n",
        "\n",
        "  - Essential for building robust file-handling applications that interact with the operating system."
      ],
      "metadata": {
        "id": "gTGnF1j7U64m"
      }
    },
    {
      "cell_type": "markdown",
      "source": [
        "23. What are the challenges associated with memory management in Python?\n",
        "\n",
        "  - Handling circular references and complex object graphs.\n",
        "\n",
        "  - Large objects may delay memory release, causing temporary memory spikes.\n",
        "\n",
        "  - Garbage collection adds performance overhead.\n",
        "\n",
        "  - Memory fragmentation may occur in long-running programs."
      ],
      "metadata": {
        "id": "XIQkEThiU62U"
      }
    },
    {
      "cell_type": "markdown",
      "source": [
        "24. How do you raise an exception manually in Python?\n",
        "\n",
        "  - You can raise an exception manually using the raise keyword.\n",
        "\n",
        "  - Raising exceptions manually is important for enforcing conditions, validating inputs, or signaling errors in your program.\n",
        "\n",
        "  - It helps in maintaining program correctness and makes debugging easier by explicitly highlighting where something went wrong.\n",
        "\n"
      ],
      "metadata": {
        "id": "u5gUC_DSU6O6"
      }
    },
    {
      "cell_type": "code",
      "source": [
        "def check_positive_number(number):\n",
        "    \"\"\"Checks if a number is positive and raises an error if it's not.\"\"\"\n",
        "    if number < 0:\n",
        "        # The 'raise' keyword is used to trigger an exception.\n",
        "        # We are raising a ValueError with a custom message.\n",
        "        raise ValueError(\"The number cannot be negative.\")\n",
        "    print(f\"The number {number} is a valid positive value.\")\n",
        "\n",
        "# Example of using the function.\n",
        "try:\n",
        "    # This call will be successful.\n",
        "    check_positive_number(10)\n",
        "\n",
        "    # This call will fail and raise the ValueError.\n",
        "    check_positive_number(-5)\n",
        "except ValueError as e:\n",
        "    # The 'except' block catches the raised exception.\n",
        "    print(f\"Caught an error: {e}\")"
      ],
      "metadata": {
        "colab": {
          "base_uri": "https://localhost:8080/"
        },
        "id": "d8eRdhdWWKye",
        "outputId": "45fce514-8e03-4553-fe31-8f2ab5db5f21"
      },
      "execution_count": 120,
      "outputs": [
        {
          "output_type": "stream",
          "name": "stdout",
          "text": [
            "The number 10 is a valid positive value.\n",
            "Caught an error: The number cannot be negative.\n"
          ]
        }
      ]
    },
    {
      "cell_type": "markdown",
      "source": [
        "25. Why is it important to use multithreading in certain applications?\n",
        "\n",
        "  - Multithreading allows multiple tasks to run concurrently within a single process.\n",
        "\n",
        "  - It is particularly useful for I/O-bound applications like file operations, network communication, or GUI programs where waiting for input/output can block execution.\n",
        "\n",
        "  - Improves performance and responsiveness without requiring multiple processes.\n",
        "\n",
        "  - Reduces resource usage compared to creating multiple processes, since threads share the same memory space."
      ],
      "metadata": {
        "id": "eMKsmSxmWEIW"
      }
    },
    {
      "cell_type": "markdown",
      "source": [
        "Files, exceptional handling,\n",
        "logging and memory\n",
        "management-practical questions:-"
      ],
      "metadata": {
        "id": "V9HXM56xWbGZ"
      }
    },
    {
      "cell_type": "code",
      "source": [
        "# 1. How can you open a file for writing in Python and write a string to it?\n",
        "with open(\"example.txt\", \"w\") as file:\n",
        "    file.write(\"Hello, this is a sample string.\\n\")"
      ],
      "metadata": {
        "id": "OvfgXAxpWq54"
      },
      "execution_count": 121,
      "outputs": []
    },
    {
      "cell_type": "code",
      "source": [
        "# 2. Write a Python program to read the contents of a file and print each line.\n",
        "# Solution:\n",
        "with open(\"example.txt\", \"r\") as file:\n",
        "    for line in file:\n",
        "        print(line.strip())"
      ],
      "metadata": {
        "colab": {
          "base_uri": "https://localhost:8080/"
        },
        "id": "3Bv6w4c_YkG9",
        "outputId": "4deb422f-6cc8-4840-da62-dd76388ce597"
      },
      "execution_count": 122,
      "outputs": [
        {
          "output_type": "stream",
          "name": "stdout",
          "text": [
            "Hello, this is a sample string.\n"
          ]
        }
      ]
    },
    {
      "cell_type": "code",
      "source": [
        "# 3. How would you handle a case where the file doesn't exist while trying to open it for reading?\n",
        "# Solution:\n",
        "try:\n",
        "    with open(\"nonexistent.txt\", \"r\") as file:\n",
        "        content = file.read()\n",
        "except FileNotFoundError:\n",
        "    print(\"File does not exist!\")"
      ],
      "metadata": {
        "colab": {
          "base_uri": "https://localhost:8080/"
        },
        "id": "_D2UTUuBYkEx",
        "outputId": "f49a88d1-c728-480e-c268-f5e88722b16e"
      },
      "execution_count": 123,
      "outputs": [
        {
          "output_type": "stream",
          "name": "stdout",
          "text": [
            "File does not exist!\n"
          ]
        }
      ]
    },
    {
      "cell_type": "code",
      "source": [
        "# 4. Write a Python script that reads the content from one file and writes it to another file.\n",
        "source_file = \"source.txt\"\n",
        "destination_file = \"destination.txt\"\n",
        "\n",
        "try:\n",
        "    # Open the source file in read mode and destination file in write mode\n",
        "    with open(source_file, \"r\") as src, open(destination_file, \"w\") as dest:\n",
        "        for line in src:\n",
        "            dest.write(line)\n",
        "    print(f\"Content from '{source_file}' has been successfully copied to '{destination_file}'.\")\n",
        "\n",
        "except FileNotFoundError:\n",
        "    print(f\"The source file '{source_file}' does not exist.\")\n",
        "except IOError as e:\n",
        "    print(f\"An error occurred while handling files: {e}\")"
      ],
      "metadata": {
        "colab": {
          "base_uri": "https://localhost:8080/"
        },
        "id": "Jnkz2XoBYkCe",
        "outputId": "658a9fd1-baac-4d84-b9bf-dd796dca8316"
      },
      "execution_count": 124,
      "outputs": [
        {
          "output_type": "stream",
          "name": "stdout",
          "text": [
            "The source file 'source.txt' does not exist.\n"
          ]
        }
      ]
    },
    {
      "cell_type": "code",
      "source": [
        "# 5. How would you catch and handle a division by zero error in Python?\n",
        "# Solution:\n",
        "try:\n",
        "    x = 10 / 0\n",
        "except ZeroDivisionError:\n",
        "    print(\"Cannot divide by zero!\")"
      ],
      "metadata": {
        "colab": {
          "base_uri": "https://localhost:8080/"
        },
        "id": "YcaYBf-6Yj4R",
        "outputId": "b4c0fda5-1a10-47a8-d803-5ac9a0c59b3b"
      },
      "execution_count": 125,
      "outputs": [
        {
          "output_type": "stream",
          "name": "stdout",
          "text": [
            "Cannot divide by zero!\n"
          ]
        }
      ]
    },
    {
      "cell_type": "code",
      "source": [
        "# 6. Write a Python program that logs an error message to a log file when a division by zero exception occurs.\n",
        "# Solution:\n",
        "import logging\n",
        "logging.basicConfig(filename=\"error.log\", level=logging.ERROR)\n",
        "try:\n",
        "    x = 10 / 0\n",
        "except ZeroDivisionError as e:\n",
        "    logging.error(f\"Division by zero error: {e}\")"
      ],
      "metadata": {
        "colab": {
          "base_uri": "https://localhost:8080/"
        },
        "id": "BVgM7k5OYj0u",
        "outputId": "55dd1a77-d498-4a3a-9d14-a40e59dbc580"
      },
      "execution_count": 126,
      "outputs": [
        {
          "output_type": "stream",
          "name": "stderr",
          "text": [
            "ERROR:root:Division by zero error: division by zero\n"
          ]
        }
      ]
    },
    {
      "cell_type": "code",
      "source": [
        "# 7. How do you log information at different levels (INFO, ERROR, WARNING) in Python using the logging module?\n",
        "# Solution:\n",
        "logging.basicConfig(filename=\"app.log\", level=logging.INFO)\n",
        "logging.info(\"This is an informational message\")\n",
        "logging.warning(\"This is a warning message\")\n",
        "logging.error(\"This is an error message\")"
      ],
      "metadata": {
        "colab": {
          "base_uri": "https://localhost:8080/"
        },
        "id": "uLjHTjSdYjyp",
        "outputId": "37ebfa7b-be7e-4871-e7d7-191173471ea9"
      },
      "execution_count": 127,
      "outputs": [
        {
          "output_type": "stream",
          "name": "stderr",
          "text": [
            "WARNING:root:This is a warning message\n",
            "ERROR:root:This is an error message\n"
          ]
        }
      ]
    },
    {
      "cell_type": "code",
      "source": [
        "# 8. Write a program to handle a file opening error using exception handling.\n",
        "# Solution:\n",
        "try:\n",
        "    file = open(\"file.txt\", \"r\")\n",
        "except IOError:\n",
        "    print(\"Error opening file\")\n",
        "else:\n",
        "    print(\"File opened successfully\")\n",
        "    file.close()"
      ],
      "metadata": {
        "colab": {
          "base_uri": "https://localhost:8080/"
        },
        "id": "KPI1RcVyYjww",
        "outputId": "66019329-4b7f-48f4-a491-a207a970e199"
      },
      "execution_count": 128,
      "outputs": [
        {
          "output_type": "stream",
          "name": "stdout",
          "text": [
            "Error opening file\n"
          ]
        }
      ]
    },
    {
      "cell_type": "code",
      "source": [
        "# 9. How can you read a file line by line and store its content in a list in Python?\n",
        "# Solution:\n",
        "with open(\"example.txt\", \"r\") as file:\n",
        "    lines = [line.strip() for line in file]\n",
        "print(lines)"
      ],
      "metadata": {
        "colab": {
          "base_uri": "https://localhost:8080/"
        },
        "id": "GS2Lsn6wYjuX",
        "outputId": "e1ec0761-26ea-4a01-c758-1f3881742721"
      },
      "execution_count": 129,
      "outputs": [
        {
          "output_type": "stream",
          "name": "stdout",
          "text": [
            "['Hello, this is a sample string.']\n"
          ]
        }
      ]
    },
    {
      "cell_type": "code",
      "source": [
        "# 10. How can you append data to an existing file in Python?\n",
        "# Solution:\n",
        "with open(\"example.txt\", \"a\") as file:\n",
        "    file.write(\"This line will be appended.\\n\")"
      ],
      "metadata": {
        "id": "Zk0BWiLfYjr5"
      },
      "execution_count": 130,
      "outputs": []
    },
    {
      "cell_type": "code",
      "source": [
        "# 11. Write a Python program that uses a try-except block to handle an error when attempting to access a dictionary key that doesn't exist.\n",
        "# Solution:\n",
        "my_dict = {\"a\": 1, \"b\": 2}\n",
        "try:\n",
        "    print(my_dict[\"c\"])\n",
        "except KeyError:\n",
        "    print(\"Key does not exist!\")"
      ],
      "metadata": {
        "colab": {
          "base_uri": "https://localhost:8080/"
        },
        "id": "z_WgQi4zYjiM",
        "outputId": "6c928a4e-4f7a-4c05-c280-8d019c5eca0b"
      },
      "execution_count": 131,
      "outputs": [
        {
          "output_type": "stream",
          "name": "stdout",
          "text": [
            "Key does not exist!\n"
          ]
        }
      ]
    },
    {
      "cell_type": "code",
      "source": [
        "# 12. Write a program that demonstrates using multiple except blocks to handle different types of exceptions.\n",
        "# Solution:\n",
        "try:\n",
        "    x = int(\"abc\")\n",
        "    y = 10 / 0\n",
        "except ValueError:\n",
        "    print(\"ValueError occurred!\")\n",
        "except ZeroDivisionError:\n",
        "    print(\"Division by zero occurred!\")"
      ],
      "metadata": {
        "colab": {
          "base_uri": "https://localhost:8080/"
        },
        "id": "N6Nc54gHYjgD",
        "outputId": "411a3588-33e8-49a0-eb82-c158d03c5b72"
      },
      "execution_count": 132,
      "outputs": [
        {
          "output_type": "stream",
          "name": "stdout",
          "text": [
            "ValueError occurred!\n"
          ]
        }
      ]
    },
    {
      "cell_type": "code",
      "source": [
        "# 13. How would you check if a file exists before attempting to read it in Python?\n",
        "# Solution:\n",
        "import os\n",
        "if os.path.exists(\"example.txt\"):\n",
        "    print(\"File exists!\")\n",
        "else:\n",
        "    print(\"File does not exist!\")"
      ],
      "metadata": {
        "colab": {
          "base_uri": "https://localhost:8080/"
        },
        "id": "65P-q3vJYjd0",
        "outputId": "ab69529c-4dca-40fc-c586-83feadfce423"
      },
      "execution_count": 133,
      "outputs": [
        {
          "output_type": "stream",
          "name": "stdout",
          "text": [
            "File exists!\n"
          ]
        }
      ]
    },
    {
      "cell_type": "code",
      "source": [
        "# 14. Write a program that uses the logging module to log both informational and error messages.\n",
        "\n",
        "import logging\n",
        "\n",
        "# Configure logging\n",
        "logging.basicConfig(\n",
        "    filename=\"app.log\",       # Log file name\n",
        "    level=logging.INFO,       # Minimum level to log\n",
        "    format=\"%(asctime)s - %(levelname)s - %(message)s\"  # Log format\n",
        ")\n",
        "\n",
        "# Log an informational message\n",
        "logging.info(\"Program started successfully.\")\n",
        "\n",
        "try:\n",
        "    # Example operation\n",
        "    x = 10\n",
        "    y = 0\n",
        "    result = x / y  # This will raise ZeroDivisionError\n",
        "except ZeroDivisionError as e:\n",
        "    # Log an error message\n",
        "    logging.error(f\"An error occurred: {e}\")\n",
        "\n",
        "# Log another informational message\n",
        "logging.info(\"Program ended.\")"
      ],
      "metadata": {
        "colab": {
          "base_uri": "https://localhost:8080/"
        },
        "id": "1WhpgPU_Yjbg",
        "outputId": "a9503123-71a3-411c-92ce-6305cb73d7bc"
      },
      "execution_count": 134,
      "outputs": [
        {
          "output_type": "stream",
          "name": "stderr",
          "text": [
            "ERROR:root:An error occurred: division by zero\n"
          ]
        }
      ]
    },
    {
      "cell_type": "code",
      "source": [
        "# 15. Write a Python program that prints the content of a file and handles the case when the file is empty.\n",
        "# Solution:\n",
        "with open(\"example.txt\", \"r\") as file:\n",
        "    content = file.read()\n",
        "    if content:\n",
        "        print(content)\n",
        "    else:\n",
        "        print(\"File is empty!\")"
      ],
      "metadata": {
        "colab": {
          "base_uri": "https://localhost:8080/"
        },
        "id": "L6cbmU8iYjZU",
        "outputId": "4e35ef19-4308-4474-eae8-186d1360ccc4"
      },
      "execution_count": 135,
      "outputs": [
        {
          "output_type": "stream",
          "name": "stdout",
          "text": [
            "Hello, this is a sample string.\n",
            "This line will be appended.\n",
            "\n"
          ]
        }
      ]
    },
    {
      "cell_type": "code",
      "source": [
        "# 16. Demonstrate how to use memory profiling to check the memory usage of a small program.\n",
        "from memory_profiler import profile\n",
        "\n",
        "@profile\n",
        "def create_large_list():\n",
        "    \"\"\"Function to create a large list and consume memory\"\"\"\n",
        "    print(\"Creating a large list...\")\n",
        "    my_list = [i for i in range(1000000)]  # 1 million numbers\n",
        "    print(\"List created.\")\n",
        "    return my_list\n",
        "\n",
        "@profile\n",
        "def manipulate_list():\n",
        "    \"\"\"Function to manipulate the list\"\"\"\n",
        "    print(\"Manipulating the list...\")\n",
        "    data = create_large_list()\n",
        "    squared = [x**2 for x in data]  # Square each element\n",
        "    print(\"List manipulation done.\")\n",
        "    return squared\n",
        "\n",
        "@profile\n",
        "def main():\n",
        "    print(\"Memory profiling demonstration started.\\n\")\n",
        "\n",
        "    # Call functions to see memory usage\n",
        "    create_large_list()\n",
        "    manipulate_list()\n",
        "\n",
        "    print(\"\\nMemory profiling demonstration ended.\")\n",
        "\n",
        "if __name__ == \"__main__\":\n",
        "    main()"
      ],
      "metadata": {
        "colab": {
          "base_uri": "https://localhost:8080/"
        },
        "id": "PwsqmEuJbsbg",
        "outputId": "ec39596f-08e1-4703-a131-7a0051ae5f27"
      },
      "execution_count": 136,
      "outputs": [
        {
          "output_type": "stream",
          "name": "stdout",
          "text": [
            "ERROR: Could not find file /tmp/ipython-input-535294904.py\n",
            "Memory profiling demonstration started.\n",
            "\n",
            "ERROR: Could not find file /tmp/ipython-input-535294904.py\n",
            "Creating a large list...\n",
            "List created.\n",
            "ERROR: Could not find file /tmp/ipython-input-535294904.py\n",
            "Manipulating the list...\n",
            "ERROR: Could not find file /tmp/ipython-input-535294904.py\n",
            "Creating a large list...\n",
            "List created.\n",
            "List manipulation done.\n",
            "\n",
            "Memory profiling demonstration ended.\n"
          ]
        }
      ]
    },
    {
      "cell_type": "code",
      "source": [
        "# 17. Write a Python program to create and write a list of numbers to a file, one number per line.\n",
        "numbers = [10, 20, 30, 40, 50]\n",
        "\n",
        "# File name\n",
        "file_name = \"numbers.txt\"\n",
        "\n",
        "try:\n",
        "    # Open the file in write mode\n",
        "    with open(file_name, \"w\") as file:\n",
        "        for num in numbers:\n",
        "            file.write(f\"{num}\\n\")  # Write each number on a new line\n",
        "    print(f\"Numbers have been successfully written to '{file_name}'.\")\n",
        "\n",
        "except IOError as e:\n",
        "    print(f\"An error occurred while writing to the file: {e}\")"
      ],
      "metadata": {
        "colab": {
          "base_uri": "https://localhost:8080/"
        },
        "id": "zcgRzzZsYjTB",
        "outputId": "3b75b33d-32bc-4b74-e2c9-3c2d957f8cb3"
      },
      "execution_count": 137,
      "outputs": [
        {
          "output_type": "stream",
          "name": "stdout",
          "text": [
            "Numbers have been successfully written to 'numbers.txt'.\n"
          ]
        }
      ]
    },
    {
      "cell_type": "code",
      "source": [
        "# 18. How would you implement a basic logging setup that logs to a file with rotation after 1MB?\n",
        "# Solution:\n",
        "# Program: Logging with rotation after 1MB\n",
        "\n",
        "import logging\n",
        "from logging.handlers import RotatingFileHandler\n",
        "\n",
        "# Create a rotating file handler\n",
        "# maxBytes=1_000_000 means 1MB, backupCount=3 means keep 3 old log files\n",
        "handler = RotatingFileHandler(\"app.log\", maxBytes=1_000_000, backupCount=3)\n",
        "\n",
        "# Configure the logging\n",
        "logging.basicConfig(\n",
        "    handlers=[handler],\n",
        "    level=logging.INFO,\n",
        "    format=\"%(asctime)s - %(levelname)s - %(message)s\"\n",
        ")\n",
        "\n",
        "# Example log messages\n",
        "logging.info(\"Program started.\")\n",
        "logging.warning(\"This is a warning message.\")\n",
        "logging.error(\"This is an error message.\")\n",
        "\n",
        "# Simulate multiple logs to trigger rotation\n",
        "for i in range(10000):\n",
        "    logging.info(f\"Logging line {i + 1}\")\n",
        "\n",
        "print(\"Logging complete. Check 'app.log' and rotated files if they exceed 1MB.\")"
      ],
      "metadata": {
        "colab": {
          "base_uri": "https://localhost:8080/"
        },
        "id": "qnwyRX3ZXzGt",
        "outputId": "664900e6-809f-4f9c-8309-3bcd2856df14"
      },
      "execution_count": 138,
      "outputs": [
        {
          "output_type": "stream",
          "name": "stderr",
          "text": [
            "WARNING:root:This is a warning message.\n",
            "ERROR:root:This is an error message.\n"
          ]
        },
        {
          "output_type": "stream",
          "name": "stdout",
          "text": [
            "Logging complete. Check 'app.log' and rotated files if they exceed 1MB.\n"
          ]
        }
      ]
    },
    {
      "cell_type": "code",
      "source": [
        "# 19. Write a program that handles both IndexError and KeyError using a try-except block.\n",
        "# Solution:\n",
        "my_list = [1, 2]\n",
        "my_dict = {\"a\": 1}\n",
        "try:\n",
        "    print(my_list[5])\n",
        "    print(my_dict[\"b\"])\n",
        "except IndexError:\n",
        "    print(\"Index out of range!\")\n",
        "except KeyError:\n",
        "    print(\"Key not found!\")"
      ],
      "metadata": {
        "colab": {
          "base_uri": "https://localhost:8080/"
        },
        "id": "c7alM1KaXzDf",
        "outputId": "e2e4d5ac-78d3-4045-cae7-38b9a58267cc"
      },
      "execution_count": 139,
      "outputs": [
        {
          "output_type": "stream",
          "name": "stdout",
          "text": [
            "Index out of range!\n"
          ]
        }
      ]
    },
    {
      "cell_type": "code",
      "source": [
        "# 20. How would you open a file and read its contents using a context manager in Python?\n",
        "# Solution:\n",
        "with open(\"example.txt\", \"r\") as file:\n",
        "    content = file.read()\n",
        "print(content)"
      ],
      "metadata": {
        "colab": {
          "base_uri": "https://localhost:8080/"
        },
        "id": "RuktJgTtXzBJ",
        "outputId": "2e85d54d-1f50-431e-9bf8-335dc1618484"
      },
      "execution_count": 140,
      "outputs": [
        {
          "output_type": "stream",
          "name": "stdout",
          "text": [
            "Hello, this is a sample string.\n",
            "This line will be appended.\n",
            "\n"
          ]
        }
      ]
    },
    {
      "cell_type": "code",
      "source": [
        "# 21. Write a Python program that reads a file and prints the number of occurrences of a specific word.\n",
        "# Solution:\n",
        "word_to_count = \"Python\"\n",
        "with open(\"example.txt\", \"r\") as file:\n",
        "    content = file.read()\n",
        "print(content.count(word_to_count))"
      ],
      "metadata": {
        "colab": {
          "base_uri": "https://localhost:8080/"
        },
        "id": "tsf0WhFJWriN",
        "outputId": "6e58e12f-9d73-4775-81be-3300adbdfe20"
      },
      "execution_count": 141,
      "outputs": [
        {
          "output_type": "stream",
          "name": "stdout",
          "text": [
            "0\n"
          ]
        }
      ]
    },
    {
      "cell_type": "code",
      "source": [
        "# 22. How can you check if a file is empty before attempting to read its contents?\n",
        "# Solution:\n",
        "if os.path.getsize(\"example.txt\") > 0:\n",
        "    print(\"File has content\")\n",
        "else:\n",
        "    print(\"File is empty\")"
      ],
      "metadata": {
        "colab": {
          "base_uri": "https://localhost:8080/"
        },
        "id": "U8YxSN2fWrgL",
        "outputId": "c836c019-3f57-47bb-f587-ae976818eec2"
      },
      "execution_count": 142,
      "outputs": [
        {
          "output_type": "stream",
          "name": "stdout",
          "text": [
            "File has content\n"
          ]
        }
      ]
    },
    {
      "cell_type": "code",
      "metadata": {
        "colab": {
          "base_uri": "https://localhost:8080/"
        },
        "id": "618c9e69",
        "outputId": "b8144a12-9b03-47f9-a494-a7713a59194e"
      },
      "source": [
        "# 23. Write a Python program that writes to a log file when an error occurs during file handling.\n",
        "import logging\n",
        "import os\n",
        "\n",
        "# Reuse logging configuration from cell 1WhpgPU_Yjbg\n",
        "logging.basicConfig(\n",
        "    filename=\"app.log\",       # Log file name\n",
        "    level=logging.INFO,       # Minimum level to log\n",
        "    format=\"%(asctime)s - %(levelname)s - %(message)s\"  # Log format\n",
        ")\n",
        "\n",
        "\n",
        "def safe_file_read(filepath):\n",
        "    \"\"\"Attempts to read a file and logs an error if an IOError occurs.\"\"\"\n",
        "    try:\n",
        "        with open(filepath, 'r') as f:\n",
        "            content = f.read()\n",
        "            print(f\"Successfully read from {filepath}:\\n{content}\")\n",
        "            logging.info(f\"Successfully read from {filepath}\")\n",
        "    except IOError as e:\n",
        "        error_message = f\"Error reading file {filepath}: {e}\"\n",
        "        print(error_message)\n",
        "        logging.error(error_message)\n",
        "\n",
        "# Example usage with a non-existent file\n",
        "safe_file_read(\"non_existent_file.txt\")\n",
        "\n",
        "# Example usage with an existing file (create one first)\n",
        "# with open(\"existent_file.txt\", \"w\") as f:\n",
        "#     f.write(\"This file exists.\")\n",
        "# safe_file_read(\"existent_file.txt\")"
      ],
      "execution_count": 143,
      "outputs": [
        {
          "output_type": "stream",
          "name": "stderr",
          "text": [
            "ERROR:root:Error reading file non_existent_file.txt: [Errno 2] No such file or directory: 'non_existent_file.txt'\n"
          ]
        },
        {
          "output_type": "stream",
          "name": "stdout",
          "text": [
            "Error reading file non_existent_file.txt: [Errno 2] No such file or directory: 'non_existent_file.txt'\n"
          ]
        }
      ]
    }
  ]
}